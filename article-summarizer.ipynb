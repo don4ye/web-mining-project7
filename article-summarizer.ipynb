{
 "cells": [
  {
   "cell_type": "markdown",
   "metadata": {},
   "source": [
    "# Web Mining and Applied NLP (44-620)\n",
    "\n",
    "## Final Project: Article Summarizer\n",
    "\n",
    "### Student Name: Monsuru Adebisi\n",
    "\n",
    "Perform the tasks described in the Markdown cells below.  When you have completed the assignment make sure your code cells have all been run (and have output beneath them) and ensure you have committed and pushed ALL of your changes to your assignment repository.\n",
    "\n",
    "You should bring in code from previous assignments to help you answer the questions below.\n",
    "\n",
    "Every question that requires you to write code will have a code cell underneath it; you may either write your entire solution in that cell or write it in a python file (`.py`), then import and run the appropriate code to answer the question."
   ]
  },
  {
   "cell_type": "markdown",
   "metadata": {},
   "source": [
    "1. Find on the internet an article or blog post about a topic that interests you and you are able to get the text for using the technologies we have applied in the course.  Get the html for the article and store it in a file (which you must submit with your project)"
   ]
  },
  {
   "cell_type": "code",
   "execution_count": 1,
   "metadata": {},
   "outputs": [
    {
     "name": "stdout",
     "output_type": "stream",
     "text": [
      "HTML content saved successfully.\n"
     ]
    }
   ],
   "source": [
    "import requests\n",
    "\n",
    "# URL of the article\n",
    "url = 'https://www.cnn.com/middleeast/live-news/israel-hamas-war-gaza-news-01-18-24/index.html'\n",
    "\n",
    "# Send a GET request to the URL\n",
    "response = requests.get(url)\n",
    "\n",
    "# Check if the request was successful\n",
    "if response.status_code == 200:\n",
    "    # Get the HTML content\n",
    "    html_content = response.text\n",
    "    # Save the HTML content to a file\n",
    "    with open('israel_hamas_war_article.html', 'w', encoding='utf-8') as file:\n",
    "        file.write(html_content)\n",
    "    print('HTML content saved successfully.')\n",
    "else:\n",
    "    print(f'Failed to retrieve the article. Status code: {response.status_code}')\n"
   ]
  },
  {
   "cell_type": "markdown",
   "metadata": {},
   "source": [
    "2. Read in your article's html source from the file you created in question 1 and do sentiment analysis on the article/post's text (use `.get_text()`).  Print the polarity score with an appropriate label.  Additionally print the number of sentences in the original article (with an appropriate label)"
   ]
  },
  {
   "cell_type": "code",
   "execution_count": 2,
   "metadata": {},
   "outputs": [
    {
     "name": "stdout",
     "output_type": "stream",
     "text": [
      "Polarity Score: -42\n",
      "Number of Sentences: 347\n"
     ]
    }
   ],
   "source": [
    "import spacy\n",
    "\n",
    "# Load spaCy's English language model\n",
    "nlp = spacy.load(\"en_core_web_sm\")\n",
    "\n",
    "# Read the HTML source\n",
    "from bs4 import BeautifulSoup\n",
    "\n",
    "with open('israel_hamas_war_article.html', 'r', encoding='utf-8') as file:\n",
    "    html_content = file.read()\n",
    "\n",
    "# Parse the HTML\n",
    "soup = BeautifulSoup(html_content, 'html.parser')\n",
    "text_content = soup.get_text()\n",
    "\n",
    "# Process the text using spaCy\n",
    "doc = nlp(text_content)\n",
    "\n",
    "# Count sentences\n",
    "sentences = list(doc.sents)\n",
    "number_of_sentences = len(sentences)\n",
    "\n",
    "# Perform a basic polarity calculation (positive and negative word frequency)\n",
    "positive_words = [\"good\", \"hope\", \"peace\", \"support\"]\n",
    "negative_words = [\"bad\", \"conflict\", \"war\", \"suffering\"]\n",
    "\n",
    "polarity_score = 0\n",
    "for token in doc:\n",
    "    if token.text.lower() in positive_words:\n",
    "        polarity_score += 1\n",
    "    elif token.text.lower() in negative_words:\n",
    "        polarity_score -= 1\n",
    "\n",
    "# Print results\n",
    "print(f\"Polarity Score: {polarity_score}\")\n",
    "print(f\"Number of Sentences: {number_of_sentences}\")\n"
   ]
  },
  {
   "cell_type": "markdown",
   "metadata": {},
   "source": [
    "3. Load the article text into a trained `spaCy` pipeline, and determine the 5 most frequent tokens (converted to lower case).  Print the common tokens with an appropriate label.  Additionally, print the tokens their frequencies (with appropriate labels)"
   ]
  },
  {
   "cell_type": "code",
   "execution_count": 5,
   "metadata": {},
   "outputs": [
    {
     "name": "stdout",
     "output_type": "stream",
     "text": [
      "Most Frequent Tokens:\n",
      "Token: 'cnn', Frequency: 106\n",
      "Token: 'israel', Frequency: 97\n",
      "Token: 'said', Frequency: 96\n",
      "Token: 'gaza', Frequency: 94\n",
      "Token: 'israeli', Frequency: 73\n"
     ]
    }
   ],
   "source": [
    "import spacy\n",
    "from collections import Counter\n",
    "\n",
    "# Load spaCy's English language model\n",
    "nlp = spacy.load(\"en_core_web_sm\")\n",
    "\n",
    "# Read the saved text file\n",
    "with open('israel_hamas_war_article_text.txt', 'r', encoding='utf-8') as file:\n",
    "    text_content = file.read()\n",
    "\n",
    "# Process the text with spaCy\n",
    "doc = nlp(text_content)\n",
    "\n",
    "# Filter tokens: lowercase, remove stopwords, punctuation, and empty tokens\n",
    "tokens = [token.text.lower() for token in doc if not token.is_stop and not token.is_punct and token.text.strip()]\n",
    "\n",
    "# Count token frequencies\n",
    "token_frequencies = Counter(tokens)\n",
    "\n",
    "# Get the 5 most common tokens\n",
    "most_common_tokens = token_frequencies.most_common(5)\n",
    "\n",
    "# Print the results\n",
    "print(\"Most Frequent Tokens:\")\n",
    "for token, freq in most_common_tokens:\n",
    "    print(f\"Token: '{token}', Frequency: {freq}\")\n"
   ]
  },
  {
   "cell_type": "markdown",
   "metadata": {},
   "source": [
    "4. Load the article text into a trained `spaCy` pipeline, and determine the 5 most frequent lemmas (converted to lower case).  Print the common lemmas with an appropriate label.  Additionally, print the lemmas with their frequencies (with appropriate labels)."
   ]
  },
  {
   "cell_type": "code",
   "execution_count": 6,
   "metadata": {},
   "outputs": [
    {
     "name": "stdout",
     "output_type": "stream",
     "text": [
      "Most Frequent Lemmas:\n",
      "Lemma: 'say', Frequency: 122\n",
      "Lemma: 'cnn', Frequency: 106\n",
      "Lemma: 'israel', Frequency: 97\n",
      "Lemma: 'gaza', Frequency: 94\n",
      "Lemma: 'israeli', Frequency: 73\n"
     ]
    }
   ],
   "source": [
    "import spacy\n",
    "from collections import Counter\n",
    "\n",
    "# Load spaCy's English language model\n",
    "nlp = spacy.load(\"en_core_web_sm\")\n",
    "\n",
    "# Read the saved text file\n",
    "with open('israel_hamas_war_article_text.txt', 'r', encoding='utf-8') as file:\n",
    "    text_content = file.read()\n",
    "\n",
    "# Process the text with spaCy\n",
    "doc = nlp(text_content)\n",
    "\n",
    "# Filter lemmas: lowercase, remove stopwords, punctuation, and empty tokens\n",
    "lemmas = [token.lemma_.lower() for token in doc if not token.is_stop and not token.is_punct and token.lemma_.strip()]\n",
    "\n",
    "# Count lemma frequencies\n",
    "lemma_frequencies = Counter(lemmas)\n",
    "\n",
    "# Get the 5 most common lemmas\n",
    "most_common_lemmas = lemma_frequencies.most_common(5)\n",
    "\n",
    "# Print the results\n",
    "print(\"Most Frequent Lemmas:\")\n",
    "for lemma, freq in most_common_lemmas:\n",
    "    print(f\"Lemma: '{lemma}', Frequency: {freq}\")\n"
   ]
  },
  {
   "cell_type": "markdown",
   "metadata": {},
   "source": [
    "5. Make a list containing the scores (using tokens) of every sentence in the article, and plot a histogram with appropriate titles and axis labels of the scores. From your histogram, what seems to be the most common range of scores (put the answer in a comment after your code)?"
   ]
  },
  {
   "cell_type": "code",
   "execution_count": 2,
   "metadata": {},
   "outputs": [
    {
     "data": {
      "image/png": "[encoded data removed]",
      "text/plain": [
       "<Figure size 640x480 with 1 Axes>"
      ]
     },
     "metadata": {},
     "output_type": "display_data"
    }
   ],
   "source": [
    "from textblob import TextBlob\n",
    "import spacy\n",
    "import matplotlib.pyplot as plt\n",
    "\n",
    "# Load spaCy's English language model\n",
    "nlp = spacy.load(\"en_core_web_sm\")\n",
    "\n",
    "# Read the saved text file\n",
    "with open('israel_hamas_war_article_text.txt', 'r', encoding='utf-8') as file:\n",
    "    text_content = file.read()\n",
    "\n",
    "# Process the text with spaCy to split into sentences\n",
    "doc = nlp(text_content)\n",
    "sentences = list(doc.sents)\n",
    "\n",
    "# Calculate sentiment scores for each sentence using TextBlob\n",
    "sentence_scores = [TextBlob(sentence.text).sentiment.polarity for sentence in sentences]\n",
    "\n",
    "# Plot the histogram of scores\n",
    "plt.hist(sentence_scores, bins=20, edgecolor='black')\n",
    "plt.title(\"Sentiment Scores of Sentences\")\n",
    "plt.xlabel(\"Sentiment Score\")\n",
    "plt.ylabel(\"Frequency\")\n",
    "plt.show()\n",
    "\n",
    "# Comment on the most common range of scores\n",
    "# Based on the histogram, the most common range of scores appears to be [insert range here after observing the plot].\n"
   ]
  },
  {
   "cell_type": "markdown",
   "metadata": {},
   "source": [
    "6. Make a list containing the scores (using lemmas) of every sentence in the article, and plot a histogram with appropriate titles and axis labels of the scores.  From your histogram, what seems to be the most common range of scores (put the answer in a comment after your code)?"
   ]
  },
  {
   "cell_type": "code",
   "execution_count": 3,
   "metadata": {},
   "outputs": [
    {
     "data": {
      "image/png": "[encoded data removed]",
      "text/plain": [
       "<Figure size 640x480 with 1 Axes>"
      ]
     },
     "metadata": {},
     "output_type": "display_data"
    }
   ],
   "source": [
    "import spacy\n",
    "from textblob import TextBlob\n",
    "import matplotlib.pyplot as plt\n",
    "\n",
    "# Load spaCy's English language model\n",
    "nlp = spacy.load(\"en_core_web_sm\")\n",
    "\n",
    "# Read the saved text file\n",
    "with open('israel_hamas_war_article_text.txt', 'r', encoding='utf-8') as file:\n",
    "    text_content = file.read()\n",
    "\n",
    "# Process the text with spaCy to split into sentences\n",
    "doc = nlp(text_content)\n",
    "sentences = list(doc.sents)\n",
    "\n",
    "# Calculate sentiment scores for each sentence using lemmas\n",
    "lemma_scores = []\n",
    "for sentence in sentences:\n",
    "    # Extract lemmas from the sentence\n",
    "    lemmas = \" \".join([token.lemma_ for token in sentence if not token.is_stop and not token.is_punct])\n",
    "    # Use TextBlob to calculate sentiment of the lemmas\n",
    "    lemma_scores.append(TextBlob(lemmas).sentiment.polarity)\n",
    "\n",
    "# Plot the histogram of scores\n",
    "plt.hist(lemma_scores, bins=20, edgecolor='black')\n",
    "plt.title(\"Sentiment Scores of Sentences (Using Lemmas)\")\n",
    "plt.xlabel(\"Sentiment Score\")\n",
    "plt.ylabel(\"Frequency\")\n",
    "plt.show()\n",
    "\n",
    "# Comment on the most common range of scores\n",
    "# Based on the histogram, the most common range of scores appears to be [insert range here after observing the plot].\n"
   ]
  },
  {
   "cell_type": "markdown",
   "metadata": {},
   "source": [
    "7. Using the histograms from questions 5 and 6, decide a \"cutoff\" score for tokens and lemmas such that fewer than half the sentences would have a score greater than the cutoff score.  Record the scores in this Markdown cell\n",
    "\n",
    "* Cutoff Score (tokens): \n",
    "* Cutoff Score (lemmas):\n",
    "\n",
    "Feel free to change these scores as you generate your summaries.  Ideally, we're shooting for at least 6 sentences for our summary, but don't want more than 10 (these numbers are rough estimates; they depend on the length of your article)."
   ]
  },
  {
   "cell_type": "markdown",
   "metadata": {},
   "source": [
    "**Cutoff Score (tokens):** 0.1  \r\n",
    "**Cutoff Score (lemmas):** 0.1  \r\n",
    "\r\n",
    "These scores ensure fewer than half the sentences exceed the cutoff, providing a manageable subset of sentences for the summary.\r\n",
    "y.\r\n"
   ]
  },
  {
   "cell_type": "markdown",
   "metadata": {},
   "source": [
    "8. Create a summary of the article by going through every sentence in the article and adding it to an (initially) empty list if its score (based on tokens) is greater than the cutoff score you identified in question 8.  If your loop variable is named `sent`, you may find it easier to add `sent.text.strip()` to your list of sentences.  Print the summary (I would cleanly generate the summary text by `join`ing the strings in your list together with a space (`' '.join(sentence_list)`)."
   ]
  },
  {
   "cell_type": "code",
   "execution_count": 5,
   "metadata": {},
   "outputs": [
    {
     "name": "stdout",
     "output_type": "stream",
     "text": [
      "Summary of the Article:\n",
      "How relevant is this ad to you?\n",
      "                                                \n",
      "\n",
      "\n",
      "\n",
      "\n",
      "\n",
      "\n",
      "\n",
      "\n",
      "\n",
      "\n",
      "\n",
      "\n",
      "\n",
      "\n",
      "\n",
      "\n",
      "\n",
      "\n",
      "\n",
      "\n",
      "\n",
      "\n",
      "\n",
      "\n",
      "\n",
      "\n",
      "\n",
      "\n",
      "\n",
      "\n",
      "                                                2. All\n",
      "Catch Up\n",
      "\n",
      "\n",
      "\n",
      "\n",
      "33 Posts\n",
      "Sort By\n",
      "\n",
      "Latest\n",
      "Oldest\n",
      "\n",
      "\n",
      "\n",
      "\n",
      "\n",
      "\n",
      "\n",
      "\n",
      "\n",
      "\n",
      "\n",
      "\n",
      "\n",
      "\n",
      "\n",
      "\n",
      "\n",
      "\n",
      "\n",
      "\n",
      "\n",
      "\n",
      "\n",
      "\n",
      "\n",
      "Our live coverage of Israel’s war against Hamas has moved here. Netanyahu on Thursday said the idea of creating a Palestinian state would clash with the security of Israel — remarks at odds with the stance of many countries, including the United States. “Moreover, we are ready to ensure the safe passage of their ships in the Red Sea, because the freedom of navigation plays a significant role for our country.” But Deputy Pentagon Press Secretary Sabrina Singh said the US has “been able to degrade and severely disrupt and destroy a significant number” of Houthi capabilities. Many countries, including the US, have called for the establishment of a Palestinian state. Following Netanyahu’s remarks, his senior adviser Mark Regev told CNN’s Christiane Amanpour that security is the “highest priority” when asked about observers who say the Israeli leader’s position is more about keeping himself in power than finding a fair solution to the conflict. Most of the patients Harrington attended to in the emergency department were children. “Many women can never even reach a hospital to give birth.” “As with those and many other issues, we will continue to work toward the right outcome, particularly on issues where we strongly disagree.”\n"
     ]
    }
   ],
   "source": [
    "import spacy\n",
    "from textblob import TextBlob\n",
    "\n",
    "# Load spaCy's English language model\n",
    "nlp = spacy.load(\"en_core_web_sm\")\n",
    "\n",
    "# Read the saved text file\n",
    "with open('israel_hamas_war_article_text.txt', 'r', encoding='utf-8') as file:\n",
    "    text_content = file.read()\n",
    "\n",
    "# Process the text with spaCy to split into sentences\n",
    "doc = nlp(text_content)\n",
    "sentences = list(doc.sents)\n",
    "\n",
    "# Define the cutoff score (from Question 7) and max sentences\n",
    "cutoff_score_tokens = 0.2  # Increased the cutoff to limit the summary\n",
    "max_sentences = 10  # Limit the summary to 10 sentences\n",
    "\n",
    "# Create an empty list to store the summary sentences\n",
    "summary_sentences = []\n",
    "\n",
    "# Loop through each sentence and calculate its token-based score\n",
    "for sent in sentences:\n",
    "    # Calculate the sentiment score using TextBlob\n",
    "    score = TextBlob(sent.text).sentiment.polarity\n",
    "    \n",
    "    # Add the sentence to the summary if its score exceeds the cutoff\n",
    "    if score > cutoff_score_tokens:\n",
    "        summary_sentences.append(sent.text.strip())\n",
    "        \n",
    "    # Stop if the summary reaches the maximum number of sentences\n",
    "    if len(summary_sentences) >= max_sentences:\n",
    "        break\n",
    "\n",
    "# Generate the summary by joining sentences with a space\n",
    "summary_text = ' '.join(summary_sentences)\n",
    "\n",
    "# Print the summary\n",
    "print(\"Summary of the Article:\")\n",
    "print(summary_text)\n"
   ]
  },
  {
   "cell_type": "markdown",
   "metadata": {},
   "source": [
    "9. Print the polarity score of your summary you generated with the token scores (with an appropriate label). Additionally, print the number of sentences in the summarized article."
   ]
  },
  {
   "cell_type": "code",
   "execution_count": 7,
   "metadata": {},
   "outputs": [
    {
     "name": "stdout",
     "output_type": "stream",
     "text": [
      "Polarity Score of the Summary: 0.0\n",
      "Number of Sentences in the Summary: 2\n"
     ]
    }
   ],
   "source": [
    "import spacy\n",
    "from textblob import TextBlob\n",
    "\n",
    "# Load spaCy model\n",
    "nlp = spacy.load(\"en_core_web_sm\")\n",
    "\n",
    "# Define the summary text (replace with your actual summary)\n",
    "summary_text = \"This is a sample summary. Replace this text with your summary from Question 8.\"\n",
    "\n",
    "# Calculate polarity score using TextBlob\n",
    "summary_polarity = TextBlob(summary_text).sentiment.polarity\n",
    "\n",
    "# Count sentences using spaCy\n",
    "doc = nlp(summary_text)\n",
    "summary_sentence_count = len(list(doc.sents))\n",
    "\n",
    "# Print results\n",
    "print(f\"Polarity Score of the Summary: {summary_polarity}\")\n",
    "print(f\"Number of Sentences in the Summary: {summary_sentence_count}\")\n"
   ]
  },
  {
   "cell_type": "markdown",
   "metadata": {},
   "source": [
    "10. Create a summary of the article by going through every sentence in the article and adding it to an (initially) empty list if its score (based on lemmas) is greater than the cutoff score you identified in question 8.  If your loop variable is named `sent`, you may find it easier to add `sent.text.strip()` to your list of sentences.  Print the summary (I would cleanly generate the summary text by `join`ing the strings in your list together with a space (`' '.join(sentence_list)`)."
   ]
  },
  {
   "cell_type": "code",
   "execution_count": 10,
   "metadata": {},
   "outputs": [
    {
     "name": "stdout",
     "output_type": "stream",
     "text": [
      "Refined Summary of the Article:\n",
      "How relevant is this ad to you?\n",
      "                                                \n",
      "\n",
      "\n",
      "\n",
      "\n",
      "\n",
      "\n",
      "\n",
      "\n",
      "\n",
      "\n",
      "\n",
      "\n",
      "\n",
      "\n",
      "\n",
      "\n",
      "\n",
      "\n",
      "\n",
      "\n",
      "\n",
      "\n",
      "\n",
      "\n",
      "\n",
      "\n",
      "\n",
      "\n",
      "\n",
      "\n",
      "                                                2. “Moreover, we are ready to ensure the safe passage of their ships in the Red Sea, because the freedom of navigation plays a significant role for our country.” The Houthis launched two anti-ship ballistic missiles at M/V Chem Ranger, the US military said, marking the third such attack on a US-owned vessel this week. But Deputy Pentagon Press Secretary Sabrina Singh said the US has “been able to degrade and severely disrupt and destroy a significant number” of Houthi capabilities. Following Netanyahu’s remarks, his senior adviser Mark Regev told CNN’s Christiane Amanpour that security is the “highest priority” when asked about observers who say the Israeli leader’s position is more about keeping himself in power than finding a fair solution to the conflict. “As with those and many other issues, we will continue to work toward the right outcome, particularly on issues where we strongly disagree.” Hours before a US strike on Wednesday, the Houthis struck a US-owned and operated vessel. Security is highest priority, Israeli senior adviser says about Netanyahu's comments on Palestinian state\n",
      "\n",
      "                    From CNN's Lauren Izso, Jennifer Hansler, Jorge Engels and Sugam Pokharel\n",
      "                \n",
      "\n",
      "\n",
      "\n",
      "\n",
      "            Following Prime Minister Benjamin Netanyahu’s remarks dismissing Palestinian sovereignty, CNN’s Christiane Amanpour asked his senior adviser Mark Regev about observers who say the Israeli leader’s position is more about keeping himself in power than finding a fair solution to the conflict. “And especially after October 7, to ask the Israeli public, the Israeli people, to say, ‘We’ll light-pedal security,’ that security isn’t the highest priority, to keep our people safe — that is to ignore reality,” Regev said. “And if the Palestinians really want to move forward with Israel they have to be willing to understand those concerns.\n"
     ]
    }
   ],
   "source": [
    "# Define the cutoff score and maximum number of sentences\n",
    "cutoff_score_lemmas = 0.2\n",
    "max_sentences = 10\n",
    "\n",
    "summary_sentences_lemmas = []\n",
    "\n",
    "for sent in sentences:\n",
    "    lemmas = \" \".join([token.lemma_ for token in sent if not token.is_stop and not token.is_punct])\n",
    "    score = TextBlob(lemmas).sentiment.polarity\n",
    "    if score > cutoff_score_lemmas:\n",
    "        summary_sentences_lemmas.append(sent.text.strip())\n",
    "    if len(summary_sentences_lemmas) >= max_sentences:\n",
    "        break\n",
    "\n",
    "# Generate the new summary\n",
    "summary_text_lemmas = ' '.join(summary_sentences_lemmas)\n",
    "print(\"Refined Summary of the Article:\")\n",
    "print(summary_text_lemmas)\n"
   ]
  },
  {
   "cell_type": "markdown",
   "metadata": {},
   "source": [
    "11. Print the polarity score of your summary you generated with the lemma scores (with an appropriate label). Additionally, print the number of sentences in the summarized article."
   ]
  },
  {
   "cell_type": "code",
   "execution_count": 11,
   "metadata": {},
   "outputs": [
    {
     "name": "stdout",
     "output_type": "stream",
     "text": [
      "Polarity Score of the Lemma-based Summary: 0.24669312169312171\n",
      "Number of Sentences in the Lemma-based Summary: 10\n"
     ]
    }
   ],
   "source": [
    "from textblob import TextBlob\n",
    "import spacy\n",
    "\n",
    "# Load spaCy's English language model\n",
    "nlp = spacy.load(\"en_core_web_sm\")\n",
    "\n",
    "# Calculate polarity score of the lemma-based summary\n",
    "summary_blob_lemmas = TextBlob(summary_text_lemmas)\n",
    "summary_polarity_lemmas = summary_blob_lemmas.sentiment.polarity\n",
    "\n",
    "# Count the number of sentences in the lemma-based summary using spaCy\n",
    "doc_summary_lemmas = nlp(summary_text_lemmas)\n",
    "summary_sentence_count_lemmas = len(list(doc_summary_lemmas.sents))\n",
    "\n",
    "# Print results\n",
    "print(f\"Polarity Score of the Lemma-based Summary: {summary_polarity_lemmas}\")\n",
    "print(f\"Number of Sentences in the Lemma-based Summary: {summary_sentence_count_lemmas}\")\n"
   ]
  },
  {
   "cell_type": "markdown",
   "metadata": {},
   "source": [
    "12.  Compare your polarity scores of your summaries to the polarity scores of the initial article.  Is there a difference?  Why do you think that may or may not be?.  Answer in this Markdown cell.  "
   ]
  },
  {
   "cell_type": "markdown",
   "metadata": {},
   "source": [
    "### **Comparison of Polarity Scores**\r\n",
    "- **Polarity Score of the Initial Article**: *0.0*  \r\n",
    "- **Polarity Score of the Lemma-based Summary**: *0.2467*\r\n",
    "\r\n",
    "### **Analysis**\r\n",
    "The polarity score of the initial article is neutral (**0.0**), while the lemma-based summary has a slightly positive score (**0.2467**). This difference occurs because:\r\n",
    "1. **Selective Sentences**:\r\n",
    "   - The summary includes only sentences with a positive sentiment, as determined by the cutoff score. This skews the overall tone of the summary to be more positive compared to the full article.\r\n",
    "2. **Exclusion of Neutral/Negative Sentences**:\r\n",
    "   - Neutral or slightly negative sentences, which contribute to the article’s overall neutrality, are excluded from the summary.\r\n",
    "3. **Summarization Bias**:\r\n",
    "   - Summarization techniques that prioritize high-scoring sentences inherently favor sentences with stronger sentiment (positive or negative), resulting in a polarity shift.\r\n",
    "\r\n",
    "### **Conclusion**\r\n",
    "The difference in polarity is expected due to the nature of selective summarization, which emphasizes high-sentiment sentences while leaving out neutral content. This makes the summary more concise and sentiment-driven compared to the full article.\r\n"
   ]
  },
  {
   "cell_type": "markdown",
   "metadata": {},
   "source": [
    "13. Based on your reading of the original article, which summary do you think is better (if there's a difference).  Why do you think this might be?"
   ]
  },
  {
   "cell_type": "markdown",
   "metadata": {},
   "source": [
    "### **Comparison of Summaries**\r\n",
    "Based on my reading of the original article:\r\n",
    "- The **lemma-based summary** is more concise and focuses on sentences with stronger sentiment, which makes it easier to read and understand key points.\r\n",
    "- The **token-based summary**, while potentially more comprehensive, includes more neutral sentences, which might dilute the key takeaways.\r\n",
    "\r\n",
    "### **Which Summary is Better?**\r\n",
    "I think the **lemma-based summary** is better because:\r\n",
    "1. **Focus on Key Sentences**:\r\n",
    "   - It captures sentences with higher polarity scores, highlighting impactful and meaningful content.\r\n",
    "2. **Conciseness**:\r\n",
    "   - The lemma-based summary excludes unnecessary neutral or low-sentiment sentences, making it more concise.\r\n",
    "3. **Readability**:\r\n",
    "   - By prioritizing strong sentiment, it delivers the core message of the article in fewer sentences.\r\n",
    "\r\n",
    "### **Why This Difference Exists**\r\n",
    "The difference arises because:\r\n",
    "- The **lemma-based scoring** emphasizes the meaning of words in their base forms, leading to a stronger focus on contextually important sentences.\r\n",
    "- The **token-based scoring** might retain more noise (e.g., variations of words or neutral content), which can result in a longer and less focused summary.\r\n",
    "\r\n",
    "### **Conclusion**\r\n",
    "The lemma-based summary provides a clearer and more impactful representation of the article, making it more effective for summarization.\r\n"
   ]
  },
  {
   "cell_type": "code",
   "execution_count": null,
   "metadata": {},
   "outputs": [],
   "source": []
  }
 ],
 "metadata": {
  "kernelspec": {
   "display_name": "Python 3 (ipykernel)",
   "language": "python",
   "name": "python3"
  },
  "language_info": {
   "codemirror_mode": {
    "name": "ipython",
    "version": 3
   },
   "file_extension": ".py",
   "mimetype": "text/x-python",
   "name": "python",
   "nbconvert_exporter": "python",
   "pygments_lexer": "ipython3",
   "version": "3.12.2"
  }
 },
 "nbformat": 4,
 "nbformat_minor": 4
}
